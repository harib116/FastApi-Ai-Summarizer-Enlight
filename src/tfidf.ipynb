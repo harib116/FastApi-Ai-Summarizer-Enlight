{
 "cells": [
  {
   "cell_type": "code",
   "execution_count": 93,
   "metadata": {},
   "outputs": [],
   "source": [
    "from sklearn.feature_extraction.text import TfidfVectorizer"
   ]
  },
  {
   "cell_type": "code",
   "execution_count": 94,
   "metadata": {},
   "outputs": [],
   "source": [
    "# Corpus\n",
    "d0 = \"Geeks for geeks\"\n",
    "d1 = \"geeks\"\n",
    "d2 = \"hari\"\n",
    "d3 = \"for geeks\"\n",
    "strings = [d0, d1, d2, d3]"
   ]
  },
  {
   "cell_type": "code",
   "execution_count": 95,
   "metadata": {},
   "outputs": [],
   "source": [
    "# Create object\n",
    "tfidf = TfidfVectorizer()"
   ]
  },
  {
   "cell_type": "code",
   "execution_count": 96,
   "metadata": {},
   "outputs": [],
   "source": [
    "# fit\n",
    "result = tfidf.fit_transform(strings)"
   ]
  },
  {
   "cell_type": "code",
   "execution_count": 97,
   "metadata": {},
   "outputs": [
    {
     "data": {
      "text/plain": [
       "array(['for', 'geeks', 'hari'], dtype=object)"
      ]
     },
     "execution_count": 97,
     "metadata": {},
     "output_type": "execute_result"
    }
   ],
   "source": [
    "# Features/terms\n",
    "feats = tfidf.get_feature_names_out()\n",
    "feats"
   ]
  },
  {
   "cell_type": "code",
   "execution_count": 98,
   "metadata": {},
   "outputs": [
    {
     "data": {
      "text/plain": [
       "array([1.51082562, 1.22314355, 1.91629073])"
      ]
     },
     "execution_count": 98,
     "metadata": {},
     "output_type": "execute_result"
    }
   ],
   "source": [
    "# Respective idf\n",
    "idfs = tfidf.idf_\n",
    "idfs"
   ]
  },
  {
   "cell_type": "code",
   "execution_count": 99,
   "metadata": {},
   "outputs": [
    {
     "name": "stdout",
     "output_type": "stream",
     "text": [
      "idf values\n",
      "for : 1.5108256237659907\n",
      "geeks : 1.2231435513142097\n",
      "hari : 1.916290731874155\n"
     ]
    }
   ],
   "source": [
    "# idfs\n",
    "print(\"idf values\")\n",
    "for feat, idf in zip(feats, idfs):\n",
    "    print(feat, ':', idf)"
   ]
  },
  {
   "cell_type": "code",
   "execution_count": 129,
   "metadata": {},
   "outputs": [
    {
     "name": "stdout",
     "output_type": "stream",
     "text": [
      "{'geeks': 1, 'for': 0, 'hari': 2}\n"
     ]
    },
    {
     "data": {
      "text/plain": [
       "{1: 'geeks', 0: 'for', 2: 'hari'}"
      ]
     },
     "execution_count": 129,
     "metadata": {},
     "output_type": "execute_result"
    }
   ],
   "source": [
    "# Word index\n",
    "vocab = tfidf.vocabulary_\n",
    "print(vocab)\n",
    "vocab = {v:k for k, v in vocab.items()}\n",
    "vocab"
   ]
  },
  {
   "cell_type": "code",
   "execution_count": 112,
   "metadata": {},
   "outputs": [
    {
     "data": {
      "text/plain": [
       "array([[0.52546357, 0.8508161 , 0.        ],\n",
       "       [0.        , 1.        , 0.        ],\n",
       "       [0.        , 0.        , 1.        ],\n",
       "       [0.77722116, 0.62922751, 0.        ]])"
      ]
     },
     "execution_count": 112,
     "metadata": {},
     "output_type": "execute_result"
    }
   ],
   "source": [
    "rarr = result.toarray()\n",
    "rarr"
   ]
  },
  {
   "cell_type": "code",
   "execution_count": 132,
   "metadata": {},
   "outputs": [
    {
     "name": "stdout",
     "output_type": "stream",
     "text": [
      "'for' in Geeks for geeks : 0.5254635733493682\n",
      "'geeks' in Geeks for geeks : 0.8508160982744233\n",
      "'hari' in Geeks for geeks : 0.0\n",
      "'for' in geeks : 0.0\n",
      "'geeks' in geeks : 1.0\n",
      "'hari' in geeks : 0.0\n",
      "'for' in hari : 0.0\n",
      "'geeks' in hari : 0.0\n",
      "'hari' in hari : 1.0\n",
      "'for' in for geeks : 0.7772211620785797\n",
      "'geeks' in for geeks : 0.6292275146695526\n",
      "'hari' in for geeks : 0.0\n"
     ]
    }
   ],
   "source": [
    "m, n = rarr.shape\n",
    "for i in range(m):\n",
    "    for j in range(n):\n",
    "        print(f\"'{vocab[j]}' in {strings[i]} : {rarr[i][j]}\")"
   ]
  },
  {
   "cell_type": "code",
   "execution_count": null,
   "metadata": {},
   "outputs": [],
   "source": []
  }
 ],
 "metadata": {
  "kernelspec": {
   "display_name": "enlight-",
   "language": "python",
   "name": "python3"
  },
  "language_info": {
   "codemirror_mode": {
    "name": "ipython",
    "version": 3
   },
   "file_extension": ".py",
   "mimetype": "text/x-python",
   "name": "python",
   "nbconvert_exporter": "python",
   "pygments_lexer": "ipython3",
   "version": "3.9.10"
  },
  "orig_nbformat": 4,
  "vscode": {
   "interpreter": {
    "hash": "13ab616de1087f561507af00ae9863180fc2d4f8e7836f5c99e1d39071cef99b"
   }
  }
 },
 "nbformat": 4,
 "nbformat_minor": 2
}
