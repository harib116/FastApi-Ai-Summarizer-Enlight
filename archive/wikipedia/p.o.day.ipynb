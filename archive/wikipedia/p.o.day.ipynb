{
 "cells": [
  {
   "cell_type": "code",
   "execution_count": 1,
   "metadata": {},
   "outputs": [],
   "source": [
    "import requests\n",
    "from datetime import date"
   ]
  },
  {
   "cell_type": "code",
   "execution_count": 5,
   "metadata": {},
   "outputs": [],
   "source": [
    "todate = date.today().isoformat()"
   ]
  },
  {
   "cell_type": "code",
   "execution_count": 7,
   "metadata": {},
   "outputs": [],
   "source": [
    "ENDPOINT = \"https://en.wikipedia.org/w/api.php\""
   ]
  },
  {
   "cell_type": "code",
   "execution_count": 24,
   "metadata": {},
   "outputs": [],
   "source": [
    "SESSION = requests.Session()\n",
    "def fetch_image_src(filename):\n",
    "  params = {\n",
    "    \"action\": \"query\",\n",
    "    \"format\": \"json\",\n",
    "    \"prop\": \"imageinfo\",\n",
    "    \"iiprop\": \"url\",\n",
    "    \"titles\": filename\n",
    "  }\n",
    "\n",
    "  response = SESSION.get(url = ENDPOINT, params = params)\n",
    "  data = response.json()\n",
    "  page = next(iter(data[\"query\"][\"pages\"].values()))\n",
    "  image_info = page[\"imageinfo\"][0]\n",
    "  image_url = image_info[\"url\"]\n",
    "\n",
    "  return image_url\n",
    "\n",
    "def fetch_potd(cur_date):\n",
    "    \"\"\"Picture Of The Day\"\"\"\n",
    "    date_iso = cur_date.isoformat() if type(cur_date) != str else cur_date\n",
    "    title = \"Template:POTD_protected/\" + date_iso\n",
    "\n",
    "    params = {\n",
    "        \"action\": \"query\",\n",
    "        \"format\": \"json\",\n",
    "        \"formatversion\": \"2\",\n",
    "        \"prop\": \"images\",\n",
    "        \"titles\": title\n",
    "    }\n",
    "\n",
    "    response = SESSION.get(url = ENDPOINT, params = params)\n",
    "    data = response.json()\n",
    "    filename = data[\"query\"][\"pages\"][0][\"images\"][0][\"title\"]\n",
    "    image_page_url = \"https://en.wikipedia.org/wiki/\" + title\n",
    "        \n",
    "    image_data = {\n",
    "        \"filename\": filename,\n",
    "        \"image_page_url\": image_page_url,\n",
    "        \"image_src\": fetch_image_src(filename),\n",
    "        \"date\": date_iso\n",
    "    }\n",
    "\n",
    "    return image_data\n"
   ]
  },
  {
   "cell_type": "code",
   "execution_count": 25,
   "metadata": {},
   "outputs": [
    {
     "data": {
      "text/plain": [
       "{'filename': 'File:Human karyotype with bands and sub-bands.png',\n",
       " 'image_page_url': 'https://en.wikipedia.org/wiki/Template:POTD_protected/2023-02-20',\n",
       " 'image_src': 'https://upload.wikimedia.org/wikipedia/commons/b/b1/Human_karyotype_with_bands_and_sub-bands.png',\n",
       " 'date': '2023-02-20'}"
      ]
     },
     "execution_count": 25,
     "metadata": {},
     "output_type": "execute_result"
    }
   ],
   "source": [
    "fetch_potd(todate)"
   ]
  }
 ],
 "metadata": {
  "kernelspec": {
   "display_name": "enlight-",
   "language": "python",
   "name": "python3"
  },
  "language_info": {
   "codemirror_mode": {
    "name": "ipython",
    "version": 3
   },
   "file_extension": ".py",
   "mimetype": "text/x-python",
   "name": "python",
   "nbconvert_exporter": "python",
   "pygments_lexer": "ipython3",
   "version": "3.9.10"
  },
  "orig_nbformat": 4,
  "vscode": {
   "interpreter": {
    "hash": "13ab616de1087f561507af00ae9863180fc2d4f8e7836f5c99e1d39071cef99b"
   }
  }
 },
 "nbformat": 4,
 "nbformat_minor": 2
}
