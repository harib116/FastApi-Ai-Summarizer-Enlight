{
 "cells": [
  {
   "cell_type": "code",
   "execution_count": 4,
   "metadata": {},
   "outputs": [],
   "source": [
    "import requests"
   ]
  },
  {
   "cell_type": "code",
   "execution_count": 5,
   "metadata": {},
   "outputs": [],
   "source": [
    "API_KEY_1 = \"660f90a0-8bf2-4ca2-b9e9-d16bcb73aac7\"\n",
    "API_KEY_2 = \"45600039-350f-4a6c-997a-e695d758aba2\"\n",
    "HEADERS = {\"x-api-key\": API_KEY_1}"
   ]
  },
  {
   "cell_type": "code",
   "execution_count": 6,
   "metadata": {},
   "outputs": [],
   "source": [
    "API_URL = \"https://syndication.api.eb.com/production\""
   ]
  },
  {
   "cell_type": "code",
   "execution_count": 7,
   "metadata": {},
   "outputs": [],
   "source": [
    "class BrittanicaSource():\n",
    "    API_URL = \"https://syndication.api.eb.com/production\"\n",
    "    \n",
    "    @classmethod\n",
    "    def get(cls, endpoint, params={}):\n",
    "        _headers = {\"x-api-key\": \"660f90a0-8bf2-4ca2-b9e9-d16bcb73aac7\"}\n",
    "        return requests.get(cls.API_URL+endpoint, params=params, headers=_headers)\n",
    "    "
   ]
  },
  {
   "cell_type": "code",
   "execution_count": 8,
   "metadata": {},
   "outputs": [],
   "source": [
    "article_ep = \"/articles\"\n",
    "_params = {\n",
    "    \"articleTypeId\": 1,\n",
    "    \"categoryId\": 1,\n",
    "    # \"lastUpdated\": \"2022-12-31\",\n",
    "    # \"page\":3\n",
    "}\n",
    "resp = BrittanicaSource.get(article_ep, params=_params).json()\n",
    "# tpages = resp.json().get('totalCount') /1000 +1\n",
    "# print(tpages)\n",
    "# data = []\n",
    "# for page in range(1, int(tpages)+2):\n",
    "#     _params.update({\"page\": page})\n",
    "#     print(_params)\n",
    "#     d = BrittanicaSource.get(article_ep, params=_params).json()\n",
    "#     print(len(d.get('articles')))"
   ]
  },
  {
   "cell_type": "code",
   "execution_count": 30,
   "metadata": {},
   "outputs": [
    {
     "data": {
      "text/plain": [
       "1000"
      ]
     },
     "execution_count": 30,
     "metadata": {},
     "output_type": "execute_result"
    }
   ],
   "source": [
    "len(resp.json()['articles'])"
   ]
  },
  {
   "cell_type": "code",
   "execution_count": 27,
   "metadata": {},
   "outputs": [],
   "source": [
    "article_detail_ep = \"/article/354352/xml\"\n",
    "res = BrittanicaSource.get(article_detail_ep)"
   ]
  },
  {
   "cell_type": "code",
   "execution_count": 28,
   "metadata": {},
   "outputs": [
    {
     "data": {
      "text/plain": [
       "'<?xml version=\"1.0\" encoding=\"UTF-8\"?><!DOCTYPE article SYSTEM \"syndication_xml.dtd\"> <article articleid=\"354352\" articletypeid=\"45\" version=\"5\" language=\"en_us\" lastupdate=\"2021-Aug-04 20:53:05\" url=\"/article/Aachen/354352\"><title>Aachen</title> <p><e type=\"bold\">Aachen</e>, French<e type=\"bold\">Aix-la-Chapelle</e>, City (pop., 2007 est.: 258,770), western Germany, southwest of Cologne. It was inhabited by Romans in the 1st century <e type=\"smallcap\">ad</e>. A center of Carolingian culture, and the second city of <xref articleid=\"360347\">Charlemagne</xref>’s empire, it was the site of his great palace. The cathedral built by Charlemagne <e type=\"italic\">c.</e> 800 saw the coronation of most German kings of the 10th–16th century; his chapel, with his tomb, remains as part of the larger Gothic cathedral today. Aachen was part of France 1801–15. It is famous for its many spas.</p><copyright>Encyclopædia Britannica</copyright></article>'"
      ]
     },
     "execution_count": 28,
     "metadata": {},
     "output_type": "execute_result"
    }
   ],
   "source": [
    "res.text"
   ]
  }
 ],
 "metadata": {
  "kernelspec": {
   "display_name": "enlight-",
   "language": "python",
   "name": "python3"
  },
  "language_info": {
   "codemirror_mode": {
    "name": "ipython",
    "version": 3
   },
   "file_extension": ".py",
   "mimetype": "text/x-python",
   "name": "python",
   "nbconvert_exporter": "python",
   "pygments_lexer": "ipython3",
   "version": "3.9.10"
  },
  "orig_nbformat": 4,
  "vscode": {
   "interpreter": {
    "hash": "13ab616de1087f561507af00ae9863180fc2d4f8e7836f5c99e1d39071cef99b"
   }
  }
 },
 "nbformat": 4,
 "nbformat_minor": 2
}
