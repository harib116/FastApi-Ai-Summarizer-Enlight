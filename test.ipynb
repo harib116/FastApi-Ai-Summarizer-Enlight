{
 "cells": [
  {
   "cell_type": "code",
   "execution_count": 2,
   "metadata": {},
   "outputs": [
    {
     "name": "stdout",
     "output_type": "stream",
     "text": [
      "\u001b[31mERROR: Could not find a version that satisfies the requirement transfromers (from versions: none)\u001b[0m\u001b[31m\n",
      "\u001b[0m\u001b[31mERROR: No matching distribution found for transfromers\u001b[0m\u001b[31m\n",
      "\u001b[0mRequirement already satisfied: bert-extractive-summarizer in /home/hari/virtualenvs/enlight-/lib/python3.9/site-packages (0.10.1)\n",
      "Requirement already satisfied: spacy in /home/hari/virtualenvs/enlight-/lib/python3.9/site-packages (from bert-extractive-summarizer) (3.4.4)\n",
      "Requirement already satisfied: transformers in /home/hari/virtualenvs/enlight-/lib/python3.9/site-packages (from bert-extractive-summarizer) (4.25.1)\n",
      "Requirement already satisfied: scikit-learn in /home/hari/virtualenvs/enlight-/lib/python3.9/site-packages (from bert-extractive-summarizer) (1.2.0)\n",
      "Requirement already satisfied: threadpoolctl>=2.0.0 in /home/hari/virtualenvs/enlight-/lib/python3.9/site-packages (from scikit-learn->bert-extractive-summarizer) (3.1.0)\n",
      "Requirement already satisfied: numpy>=1.17.3 in /home/hari/virtualenvs/enlight-/lib/python3.9/site-packages (from scikit-learn->bert-extractive-summarizer) (1.23.5)\n",
      "Requirement already satisfied: joblib>=1.1.1 in /home/hari/virtualenvs/enlight-/lib/python3.9/site-packages (from scikit-learn->bert-extractive-summarizer) (1.2.0)\n",
      "Requirement already satisfied: scipy>=1.3.2 in /home/hari/virtualenvs/enlight-/lib/python3.9/site-packages (from scikit-learn->bert-extractive-summarizer) (1.9.3)\n",
      "Requirement already satisfied: murmurhash<1.1.0,>=0.28.0 in /home/hari/virtualenvs/enlight-/lib/python3.9/site-packages (from spacy->bert-extractive-summarizer) (1.0.9)\n",
      "Requirement already satisfied: packaging>=20.0 in /home/hari/virtualenvs/enlight-/lib/python3.9/site-packages (from spacy->bert-extractive-summarizer) (22.0)\n",
      "Requirement already satisfied: catalogue<2.1.0,>=2.0.6 in /home/hari/virtualenvs/enlight-/lib/python3.9/site-packages (from spacy->bert-extractive-summarizer) (2.0.8)\n",
      "Requirement already satisfied: smart-open<7.0.0,>=5.2.1 in /home/hari/virtualenvs/enlight-/lib/python3.9/site-packages (from spacy->bert-extractive-summarizer) (6.3.0)\n",
      "Requirement already satisfied: requests<3.0.0,>=2.13.0 in /home/hari/virtualenvs/enlight-/lib/python3.9/site-packages (from spacy->bert-extractive-summarizer) (2.28.1)\n",
      "Requirement already satisfied: spacy-legacy<3.1.0,>=3.0.10 in /home/hari/virtualenvs/enlight-/lib/python3.9/site-packages (from spacy->bert-extractive-summarizer) (3.0.10)\n",
      "Requirement already satisfied: setuptools in /home/hari/virtualenvs/enlight-/lib/python3.9/site-packages (from spacy->bert-extractive-summarizer) (65.3.0)\n",
      "Requirement already satisfied: pydantic!=1.8,!=1.8.1,<1.11.0,>=1.7.4 in /home/hari/virtualenvs/enlight-/lib/python3.9/site-packages (from spacy->bert-extractive-summarizer) (1.10.2)\n",
      "Requirement already satisfied: pathy>=0.3.5 in /home/hari/virtualenvs/enlight-/lib/python3.9/site-packages (from spacy->bert-extractive-summarizer) (0.10.1)\n",
      "Requirement already satisfied: jinja2 in /home/hari/virtualenvs/enlight-/lib/python3.9/site-packages (from spacy->bert-extractive-summarizer) (3.1.2)\n",
      "Requirement already satisfied: preshed<3.1.0,>=3.0.2 in /home/hari/virtualenvs/enlight-/lib/python3.9/site-packages (from spacy->bert-extractive-summarizer) (3.0.8)\n",
      "Requirement already satisfied: thinc<8.2.0,>=8.1.0 in /home/hari/virtualenvs/enlight-/lib/python3.9/site-packages (from spacy->bert-extractive-summarizer) (8.1.5)\n",
      "Requirement already satisfied: cymem<2.1.0,>=2.0.2 in /home/hari/virtualenvs/enlight-/lib/python3.9/site-packages (from spacy->bert-extractive-summarizer) (2.0.7)\n",
      "Requirement already satisfied: spacy-loggers<2.0.0,>=1.0.0 in /home/hari/virtualenvs/enlight-/lib/python3.9/site-packages (from spacy->bert-extractive-summarizer) (1.0.4)\n",
      "Requirement already satisfied: tqdm<5.0.0,>=4.38.0 in /home/hari/virtualenvs/enlight-/lib/python3.9/site-packages (from spacy->bert-extractive-summarizer) (4.64.1)\n",
      "Requirement already satisfied: typer<0.8.0,>=0.3.0 in /home/hari/virtualenvs/enlight-/lib/python3.9/site-packages (from spacy->bert-extractive-summarizer) (0.7.0)\n",
      "Requirement already satisfied: wasabi<1.1.0,>=0.9.1 in /home/hari/virtualenvs/enlight-/lib/python3.9/site-packages (from spacy->bert-extractive-summarizer) (0.10.1)\n",
      "Requirement already satisfied: srsly<3.0.0,>=2.4.3 in /home/hari/virtualenvs/enlight-/lib/python3.9/site-packages (from spacy->bert-extractive-summarizer) (2.4.5)\n",
      "Requirement already satisfied: langcodes<4.0.0,>=3.2.0 in /home/hari/virtualenvs/enlight-/lib/python3.9/site-packages (from spacy->bert-extractive-summarizer) (3.3.0)\n",
      "Requirement already satisfied: huggingface-hub<1.0,>=0.10.0 in /home/hari/virtualenvs/enlight-/lib/python3.9/site-packages (from transformers->bert-extractive-summarizer) (0.11.1)\n",
      "Requirement already satisfied: filelock in /home/hari/virtualenvs/enlight-/lib/python3.9/site-packages (from transformers->bert-extractive-summarizer) (3.8.2)\n",
      "Requirement already satisfied: regex!=2019.12.17 in /home/hari/virtualenvs/enlight-/lib/python3.9/site-packages (from transformers->bert-extractive-summarizer) (2022.10.31)\n",
      "Requirement already satisfied: pyyaml>=5.1 in /home/hari/virtualenvs/enlight-/lib/python3.9/site-packages (from transformers->bert-extractive-summarizer) (6.0)\n",
      "Requirement already satisfied: tokenizers!=0.11.3,<0.14,>=0.11.1 in /home/hari/virtualenvs/enlight-/lib/python3.9/site-packages (from transformers->bert-extractive-summarizer) (0.13.2)\n",
      "Requirement already satisfied: typing-extensions>=3.7.4.3 in /home/hari/virtualenvs/enlight-/lib/python3.9/site-packages (from huggingface-hub<1.0,>=0.10.0->transformers->bert-extractive-summarizer) (4.4.0)\n",
      "Requirement already satisfied: idna<4,>=2.5 in /home/hari/virtualenvs/enlight-/lib/python3.9/site-packages (from requests<3.0.0,>=2.13.0->spacy->bert-extractive-summarizer) (3.4)\n",
      "Requirement already satisfied: urllib3<1.27,>=1.21.1 in /home/hari/virtualenvs/enlight-/lib/python3.9/site-packages (from requests<3.0.0,>=2.13.0->spacy->bert-extractive-summarizer) (1.26.13)\n",
      "Requirement already satisfied: charset-normalizer<3,>=2 in /home/hari/virtualenvs/enlight-/lib/python3.9/site-packages (from requests<3.0.0,>=2.13.0->spacy->bert-extractive-summarizer) (2.1.1)\n",
      "Requirement already satisfied: certifi>=2017.4.17 in /home/hari/virtualenvs/enlight-/lib/python3.9/site-packages (from requests<3.0.0,>=2.13.0->spacy->bert-extractive-summarizer) (2022.12.7)\n",
      "Requirement already satisfied: blis<0.8.0,>=0.7.8 in /home/hari/virtualenvs/enlight-/lib/python3.9/site-packages (from thinc<8.2.0,>=8.1.0->spacy->bert-extractive-summarizer) (0.7.9)\n",
      "Requirement already satisfied: confection<1.0.0,>=0.0.1 in /home/hari/virtualenvs/enlight-/lib/python3.9/site-packages (from thinc<8.2.0,>=8.1.0->spacy->bert-extractive-summarizer) (0.0.3)\n",
      "Requirement already satisfied: click<9.0.0,>=7.1.1 in /home/hari/virtualenvs/enlight-/lib/python3.9/site-packages (from typer<0.8.0,>=0.3.0->spacy->bert-extractive-summarizer) (8.1.3)\n",
      "Requirement already satisfied: MarkupSafe>=2.0 in /home/hari/virtualenvs/enlight-/lib/python3.9/site-packages (from jinja2->spacy->bert-extractive-summarizer) (2.1.1)\n",
      "Requirement already satisfied: spacy in /home/hari/virtualenvs/enlight-/lib/python3.9/site-packages (3.4.4)\n",
      "Requirement already satisfied: catalogue<2.1.0,>=2.0.6 in /home/hari/virtualenvs/enlight-/lib/python3.9/site-packages (from spacy) (2.0.8)\n",
      "Requirement already satisfied: packaging>=20.0 in /home/hari/virtualenvs/enlight-/lib/python3.9/site-packages (from spacy) (22.0)\n",
      "Requirement already satisfied: numpy>=1.15.0 in /home/hari/virtualenvs/enlight-/lib/python3.9/site-packages (from spacy) (1.23.5)\n",
      "Requirement already satisfied: srsly<3.0.0,>=2.4.3 in /home/hari/virtualenvs/enlight-/lib/python3.9/site-packages (from spacy) (2.4.5)\n",
      "Requirement already satisfied: wasabi<1.1.0,>=0.9.1 in /home/hari/virtualenvs/enlight-/lib/python3.9/site-packages (from spacy) (0.10.1)\n",
      "Requirement already satisfied: tqdm<5.0.0,>=4.38.0 in /home/hari/virtualenvs/enlight-/lib/python3.9/site-packages (from spacy) (4.64.1)\n",
      "Requirement already satisfied: smart-open<7.0.0,>=5.2.1 in /home/hari/virtualenvs/enlight-/lib/python3.9/site-packages (from spacy) (6.3.0)\n",
      "Requirement already satisfied: preshed<3.1.0,>=3.0.2 in /home/hari/virtualenvs/enlight-/lib/python3.9/site-packages (from spacy) (3.0.8)\n",
      "Requirement already satisfied: langcodes<4.0.0,>=3.2.0 in /home/hari/virtualenvs/enlight-/lib/python3.9/site-packages (from spacy) (3.3.0)\n",
      "Requirement already satisfied: requests<3.0.0,>=2.13.0 in /home/hari/virtualenvs/enlight-/lib/python3.9/site-packages (from spacy) (2.28.1)\n",
      "Requirement already satisfied: setuptools in /home/hari/virtualenvs/enlight-/lib/python3.9/site-packages (from spacy) (65.3.0)\n",
      "Requirement already satisfied: cymem<2.1.0,>=2.0.2 in /home/hari/virtualenvs/enlight-/lib/python3.9/site-packages (from spacy) (2.0.7)\n",
      "Requirement already satisfied: pathy>=0.3.5 in /home/hari/virtualenvs/enlight-/lib/python3.9/site-packages (from spacy) (0.10.1)\n",
      "Requirement already satisfied: spacy-legacy<3.1.0,>=3.0.10 in /home/hari/virtualenvs/enlight-/lib/python3.9/site-packages (from spacy) (3.0.10)\n",
      "Requirement already satisfied: typer<0.8.0,>=0.3.0 in /home/hari/virtualenvs/enlight-/lib/python3.9/site-packages (from spacy) (0.7.0)\n",
      "Requirement already satisfied: spacy-loggers<2.0.0,>=1.0.0 in /home/hari/virtualenvs/enlight-/lib/python3.9/site-packages (from spacy) (1.0.4)\n",
      "Requirement already satisfied: murmurhash<1.1.0,>=0.28.0 in /home/hari/virtualenvs/enlight-/lib/python3.9/site-packages (from spacy) (1.0.9)\n",
      "Requirement already satisfied: jinja2 in /home/hari/virtualenvs/enlight-/lib/python3.9/site-packages (from spacy) (3.1.2)\n",
      "Requirement already satisfied: pydantic!=1.8,!=1.8.1,<1.11.0,>=1.7.4 in /home/hari/virtualenvs/enlight-/lib/python3.9/site-packages (from spacy) (1.10.2)\n",
      "Requirement already satisfied: thinc<8.2.0,>=8.1.0 in /home/hari/virtualenvs/enlight-/lib/python3.9/site-packages (from spacy) (8.1.5)\n",
      "Requirement already satisfied: typing-extensions>=4.1.0 in /home/hari/virtualenvs/enlight-/lib/python3.9/site-packages (from pydantic!=1.8,!=1.8.1,<1.11.0,>=1.7.4->spacy) (4.4.0)\n",
      "Requirement already satisfied: urllib3<1.27,>=1.21.1 in /home/hari/virtualenvs/enlight-/lib/python3.9/site-packages (from requests<3.0.0,>=2.13.0->spacy) (1.26.13)\n",
      "Requirement already satisfied: charset-normalizer<3,>=2 in /home/hari/virtualenvs/enlight-/lib/python3.9/site-packages (from requests<3.0.0,>=2.13.0->spacy) (2.1.1)\n",
      "Requirement already satisfied: idna<4,>=2.5 in /home/hari/virtualenvs/enlight-/lib/python3.9/site-packages (from requests<3.0.0,>=2.13.0->spacy) (3.4)\n",
      "Requirement already satisfied: certifi>=2017.4.17 in /home/hari/virtualenvs/enlight-/lib/python3.9/site-packages (from requests<3.0.0,>=2.13.0->spacy) (2022.12.7)\n",
      "Requirement already satisfied: blis<0.8.0,>=0.7.8 in /home/hari/virtualenvs/enlight-/lib/python3.9/site-packages (from thinc<8.2.0,>=8.1.0->spacy) (0.7.9)\n",
      "Requirement already satisfied: confection<1.0.0,>=0.0.1 in /home/hari/virtualenvs/enlight-/lib/python3.9/site-packages (from thinc<8.2.0,>=8.1.0->spacy) (0.0.3)\n",
      "Requirement already satisfied: click<9.0.0,>=7.1.1 in /home/hari/virtualenvs/enlight-/lib/python3.9/site-packages (from typer<0.8.0,>=0.3.0->spacy) (8.1.3)\n",
      "Requirement already satisfied: MarkupSafe>=2.0 in /home/hari/virtualenvs/enlight-/lib/python3.9/site-packages (from jinja2->spacy) (2.1.1)\n"
     ]
    }
   ],
   "source": [
    "!pip install transfromers\n",
    "!pip install bert-extractive-summarizer\n",
    "!pip install spacy"
   ]
  },
  {
   "cell_type": "code",
   "execution_count": 3,
   "metadata": {},
   "outputs": [
    {
     "name": "stderr",
     "output_type": "stream",
     "text": [
      "/home/hari/virtualenvs/enlight-/lib/python3.9/site-packages/tqdm/auto.py:22: TqdmWarning: IProgress not found. Please update jupyter and ipywidgets. See https://ipywidgets.readthedocs.io/en/stable/user_install.html\n",
      "  from .autonotebook import tqdm as notebook_tqdm\n"
     ]
    }
   ],
   "source": [
    "from summarizer import Summarizer, TransformerSummarizer"
   ]
  },
  {
   "cell_type": "code",
   "execution_count": 4,
   "metadata": {},
   "outputs": [],
   "source": [
    "body = '''\n",
    "       Scientists say they have discovered a new species of orangutans on Indonesia’s island of Sumatra.\n",
    "The population differs in several ways from the two existing orangutan species found in Sumatra and the neighboring island of Borneo.\n",
    "The orangutans were found inside North Sumatra’s Batang Toru forest, the science publication Current Biology reported.\n",
    "Researchers named the new species the Tapanuli orangutan. They say the animals are considered a new species because of genetic, skeletal and tooth differences.\n",
    "Michael Kruetzen is a geneticist with the University of Zurich who has studied the orangutans for several years. He said he was excited to be part of the unusual discovery of a new great ape in the present day. He noted that most great apes are currently considered endangered or severely endangered.\n",
    "Gorillas, chimpanzees and bonobos also belong to the great ape species.\n",
    "Orangutan – which means person of the forest in the Indonesian and Malay languages - is the world’s biggest tree-living mammal. The orange-haired animals can move easily among the trees because their arms are longer than their legs. They live more lonely lives than other great apes, spending a lot of time sleeping and eating fruit in the forest.\n",
    "The new study said fewer than 800 of the newly-described orangutans exist. Their low numbers make the group the most endangered of all the great ape species.\n",
    "They live within an area covering about 1,000 square kilometers. The population is considered highly vulnerable. That is because the environment which they depend on is greatly threatened by development.\n",
    "Researchers say if steps are not taken quickly to reduce the current and future threats, the new species could become extinct “within our lifetime.”\n",
    "Research into the new species began in 2013, when an orangutan protection group in Sumatra found an injured orangutan in an area far away from the other species. The adult male orangutan had been beaten by local villagers and died of his injuries. The complete skull was examined by researchers.\n",
    "Among the physical differences of the new species are a notably smaller head and frizzier hair. The Tapanuli orangutans also have a different diet and are found only in higher forest areas.\n",
    "There is no unified international system for recognizing new species. But to be considered, discovery claims at least require publication in a major scientific publication.\n",
    "Russell Mittermeier is head of the primate specialist group at the International Union for the Conservation of Nature. He called the finding a “remarkable discovery.” He said it puts responsibility on the Indonesian government to help the species survive.\n",
    "Matthew Nowak is one of the writers of the study. He told the Associated Press that there are three groups of the Tapanuli orangutans that are separated by non-protected land.He said forest land needs to connect the separated groups.\n",
    "In addition, the writers of the study are recommending that plans for a hydropower center in the area be stopped by the government.\n",
    "It also recommended that remaining forest in the Sumatran area where the orangutans live be protected.\n",
    "I’m Bryan Lynn.\n",
    "\n",
    "        '''\n"
   ]
  },
  {
   "cell_type": "code",
   "execution_count": 5,
   "metadata": {},
   "outputs": [
    {
     "name": "stderr",
     "output_type": "stream",
     "text": [
      "Some weights of the model checkpoint at bert-large-uncased were not used when initializing BertModel: ['cls.predictions.bias', 'cls.predictions.transform.dense.bias', 'cls.predictions.transform.dense.weight', 'cls.predictions.transform.LayerNorm.weight', 'cls.seq_relationship.bias', 'cls.predictions.decoder.weight', 'cls.predictions.transform.LayerNorm.bias', 'cls.seq_relationship.weight']\n",
      "- This IS expected if you are initializing BertModel from the checkpoint of a model trained on another task or with another architecture (e.g. initializing a BertForSequenceClassification model from a BertForPreTraining model).\n",
      "- This IS NOT expected if you are initializing BertModel from the checkpoint of a model that you expect to be exactly identical (initializing a BertForSequenceClassification model from a BertForSequenceClassification model).\n",
      "/home/hari/virtualenvs/enlight-/lib/python3.9/site-packages/sklearn/cluster/_kmeans.py:870: FutureWarning: The default value of `n_init` will change from 10 to 'auto' in 1.4. Set the value of `n_init` explicitly to suppress the warning\n",
      "  warnings.warn(\n"
     ]
    }
   ],
   "source": [
    "bert_model = Summarizer()\n",
    "bert_summary = ''.join(bert_model(body))"
   ]
  },
  {
   "cell_type": "code",
   "execution_count": 6,
   "metadata": {},
   "outputs": [
    {
     "data": {
      "text/plain": [
       "'Scientists say they have discovered a new species of orangutans on Indonesia’s island of Sumatra. Researchers named the new species the Tapanuli orangutan. They say the animals are considered a new species because of genetic, skeletal and tooth differences. He noted that most great apes are currently considered endangered or severely endangered. Orangutan – which means person of the forest in the Indonesian and Malay languages - is the world’s biggest tree-living mammal. The population is considered highly vulnerable. Russell Mittermeier is head of the primate specialist group at the International Union for the Conservation of Nature.'"
      ]
     },
     "execution_count": 6,
     "metadata": {},
     "output_type": "execute_result"
    }
   ],
   "source": [
    "bert_summary"
   ]
  }
 ],
 "metadata": {
  "kernelspec": {
   "display_name": "enlight-",
   "language": "python",
   "name": "python3"
  },
  "language_info": {
   "codemirror_mode": {
    "name": "ipython",
    "version": 3
   },
   "file_extension": ".py",
   "mimetype": "text/x-python",
   "name": "python",
   "nbconvert_exporter": "python",
   "pygments_lexer": "ipython3",
   "version": "3.9.10"
  },
  "orig_nbformat": 4,
  "vscode": {
   "interpreter": {
    "hash": "13ab616de1087f561507af00ae9863180fc2d4f8e7836f5c99e1d39071cef99b"
   }
  }
 },
 "nbformat": 4,
 "nbformat_minor": 2
}
